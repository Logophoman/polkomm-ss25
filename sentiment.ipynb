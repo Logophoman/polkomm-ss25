{
 "cells": [
  {
   "cell_type": "markdown",
   "metadata": {},
   "source": [
    "# Sentiment-Analyse auf TAZ Scraped Data\n",
    "\n",
    "Dieses Notebook demonstriert, wie man mithilfe des vortrainierten multilingualen Sentiment-Analyse-Modells `tabularisai/multilingual-sentiment-analysis` von Hugging Face Artikel- und Kommentartexte aus einer zuvor gescrapten JSON-Datei analysiert.\n",
    "\n",
    "**Wichtig:** Dieses Notebook dient zu Demonstrationszwecken. Im Rahmen des Kurses werden auch die Limitationen dieser Technik erläutert."
   ]
  },
  {
   "cell_type": "markdown",
   "metadata": {},
   "source": [
    "## 1. JSON-Datei Upload\n",
    "\n",
    "Stelle sicher, dass du die Datei `taz_scraped_data_demo_2025-04-14.json` in das Arbeitsverzeichnis hochgeladen hast."
   ]
  },
  {
   "cell_type": "code",
   "execution_count": null,
   "metadata": {},
   "outputs": [],
   "source": [
    "# Importiere benötigte Bibliotheken\n",
    "import json\n",
    "from transformers import pipeline\n",
    "import pprint\n",
    "\n",
    "print('Bibliotheken importiert.')"
   ]
  },
  {
   "cell_type": "code",
   "execution_count": null,
   "metadata": {},
   "outputs": [],
   "source": [
    "# Lade die JSON-Daten aus der Datei\n",
    "json_filename = 'taz_scraped_data_demo_2025-04-14.json'\n",
    "with open(json_filename, 'r', encoding='utf-8') as f:\n",
    "    data = json.load(f)\n",
    "\n",
    "print(f'JSON-Datei \"{json_filename}\" erfolgreich geladen.')\n",
    "print(f'Anzahl der Artikel: {len(data)}')"
   ]
  },
  {
   "cell_type": "code",
   "execution_count": null,
   "metadata": {},
   "outputs": [],
   "source": [
    "# Initialisiere die Sentiment-Analyse Pipeline\n",
    "sentiment_pipe = pipeline(\n",
    "    'text-classification', \n",
    "    model='tabularisai/multilingual-sentiment-analysis'\n",
    ")\n",
    "\n",
    "print('Sentiment-Analyse Pipeline initialisiert.')"
   ]
  },
  {
   "cell_type": "code",
   "execution_count": null,
   "metadata": {},
   "outputs": [],
   "source": [
    "def analyze_text(text):\n",
    "    \"\"\"Analysiere den Sentiment eines Textes mithilfe der Pipeline.\"\"\"\n",
    "    try:\n",
    "        result = sentiment_pipe(text)[0]\n",
    "    except Exception as e:\n",
    "        result = {'label': 'Error', 'score': None}\n",
    "    return result\n",
    "\n",
    "def print_sentiment(title, sentiment_result):\n",
    "    # Gibt den Titel und das Ergebnis formatiert aus\n",
    "    print(f\"{title}: {sentiment_result['label']} (Score: {sentiment_result['score']:.2f})\")\n",
    "\n",
    "# Hinweis: Kürzere Texte können in der Analyse oft genauer sein."
   ]
  },
  {
   "cell_type": "code",
   "execution_count": null,
   "metadata": {},
   "outputs": [],
   "source": [
    "# Iteriere über alle Artikel und führe die Sentiment-Analyse für Artikeltext sowie Kommentare aus\n",
    "for idx, article in enumerate(data):\n",
    "    print(f\"\\n--- Artikel {idx+1} ---\")\n",
    "    \n",
    "    # Sentiment-Analyse des Artikeltextes\n",
    "    article_text = article.get('Article Text', '')\n",
    "    if article_text:\n",
    "        article_sentiment = analyze_text(article_text)\n",
    "        print(f\"Artikel-Sentiment: {article_sentiment['label']} (Score: {article_sentiment['score']:.2f})\")\n",
    "    else:\n",
    "        print('Kein Artikeltext vorhanden.')\n",
    "    \n",
    "    # Sentiment-Analyse der Kommentare, falls vorhanden\n",
    "    comments = article.get('Comments', [])\n",
    "    if comments:\n",
    "        print('Kommentare:')\n",
    "        for com_idx, comment in enumerate(comments):\n",
    "            comment_text = comment.get('Comment text', '')\n",
    "            if comment_text:\n",
    "                comment_sentiment = analyze_text(comment_text)\n",
    "                print(f\"  Kommentar {com_idx+1}: {comment_sentiment['label']} (Score: {comment_sentiment['score']:.2f})\")\n",
    "            else:\n",
    "                print(f\"  Kommentar {com_idx+1}: Kein Text vorhanden.\")\n",
    "    else:\n",
    "        print('Keine Kommentare vorhanden.')\n",
    "\n",
    "print('\\nSentiment-Analyse abgeschlossen.')"
   ]
  },
  {
   "cell_type": "markdown",
   "metadata": {},
   "source": [
    "## Fazit\n",
    "\n",
    "In diesem Notebook haben wir gezeigt, wie man:\n",
    "\n",
    "- Eine JSON-Datei, die Artikel und ihre Kommentare enthält, einliest,\n",
    "- und wie man mithilfe eines vortrainierten, multilingualen Sentiment-Analysemodells von Hugging Face die Stimmung der Texte klassifiziert.\n",
    "\n",
    "**Hinweis:** Dies ist ein einfacher Demonstrationscode, der die grundlegende Technik vorführt. In einem echten Einsatzszenario sind weitere Vorverarbeitungsschritte und Fehlerbehandlungen ratsam."
   ]
  }
 ],
 "metadata": {
  "kernelspec": {
   "display_name": "Python 3 (ipykernel)",
   "language": "python",
   "name": "python3"
  },
  "language_info": {
   "file_extension": ".py",
   "mimetype": "text/x-python",
   "name": "python",
   "version": "3.x"
  }
 },
 "nbformat": 4,
 "nbformat_minor": 5
}
