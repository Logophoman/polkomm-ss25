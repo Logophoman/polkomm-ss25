{
 "cells": [
  {
   "cell_type": "markdown",
   "metadata": {},
   "source": [
    "# YouTube Playlist Video Downloader & Transcript Fetcher\n",
    "\n",
    "Dieses Notebook verwendet die Bibliothek `pytubefix`, um:\n",
    "1.  Eine YouTube-Playlist-URL zu analysieren.\n",
    "2.  Die ersten N Videos aus dieser Playlist herunterzuladen (höchste verfügbare progressive Auflösung).\n",
    "3.  Zu versuchen, die deutschen Transkripte (Untertitel) für diese Videos abzurufen und als `.srt`-Dateien zu speichern.\n",
    "\n",
    "**Bibliothek:** `pytubefix` (ein Fork von `pytube`, der oft besser mit aktuellen YouTube-Änderungen umgehen kann).\n",
    "\n",
    "**Hinweis:** Die Verfügbarkeit von Transkripten hängt davon ab, ob sie für das jeweilige Video auf YouTube existieren und ob `pytubefix` sie korrekt abrufen kann."
   ]
  },
  {
   "cell_type": "markdown",
   "metadata": {},
   "source": [
    "## Teil 0: Setup\n",
    "\n",
    "Installation von `pytubefix` und Import der benötigten Module."
   ]
  },
  {
   "cell_type": "code",
   "execution_count": null,
   "metadata": {},
   "outputs": [],
   "source": [
    "# Installiere pytubefix\n",
    "!pip install -q pytubefix"
   ]
  },
  {
   "cell_type": "code",
   "execution_count": null,
   "metadata": {},
   "outputs": [],
   "source": [
    "from pytubefix import Playlist, YouTube\n",
    "from pytubefix.exceptions import PytubeFixError, VideoUnavailable # Import spezifischer Exceptions\n",
    "import os # Für Dateipfade und Ordnererstellung\n",
    "import re # Für das Bereinigen von Dateinamen"
   ]
  },
  {
   "cell_type": "markdown",
   "metadata": {},
   "source": [
    "## Teil 1: Konfiguration\n",
    "\n",
    "Definieren Sie die Playlist-URL, die Anzahl der zu verarbeitenden Videos und das Zielverzeichnis."
   ]
  },
  {
   "cell_type": "code",
   "execution_count": null,
   "metadata": {},
   "outputs": [],
   "source": [
    "# --- Konfiguration --- \n",
    "playlist_url = \"https://www.youtube.com/watch?v=Rd8SmbOG50Q&list=PL4A2F331EE86DCC22\" # Tagesschau Playlist\n",
    "num_videos_to_process = 5 # Anzahl der Videos, die wir von Anfang an nehmen\n",
    "download_folder = \"tagesschau_downloads\" # Ordner für Videos und Transkripte\n",
    "# ---- Ende Konfiguration ---"
   ]
  },
  {
   "cell_type": "code",
   "execution_count": null,
   "metadata": {},
   "outputs": [],
   "source": [
    "# Erstelle den Download-Ordner, falls er nicht existiert\n",
    "if not os.path.exists(download_folder):\n",
    "    os.makedirs(download_folder)\n",
    "    print(f\"Ordner '{download_folder}' erstellt.\")\n",
    "else:\n",
    "    print(f\"Ordner '{download_folder}' existiert bereits.\")"
   ]
  },
  {
   "cell_type": "markdown",
   "metadata": {},
   "source": [
    "## Teil 2: Playlist-Informationen abrufen\n",
    "\n",
    "Wir erstellen ein Playlist-Objekt und holen uns die URLs der ersten N Videos."
   ]
  },
  {
   "cell_type": "code",
   "execution_count": null,
   "metadata": {},
   "outputs": [],
   "source": [
    "try:\n",
    "    playlist = Playlist(playlist_url)\n",
    "    print(f\"Playlist Titel: {playlist.title}\")\n",
    "    print(f\"Gesamtzahl Videos in Playlist (laut Metadaten): {playlist.length}\")\n",
    "\n",
    "    # Hole die URLs der Videos (kann bei sehr langen Playlists dauern)\n",
    "    # Wir nehmen nur die ersten 'num_videos_to_process' URLs\n",
    "    video_urls = playlist.video_urls[:num_videos_to_process]\n",
    "\n",
    "    print(f\"Die ersten {len(video_urls)} Video-URLs werden verarbeitet:\")\n",
    "    for i, url in enumerate(video_urls):\n",
    "        print(f\"  {i+1}: {url}\")\n",
    "\n",
    "except Exception as e:\n",
    "    print(f\"Fehler beim Abrufen der Playlist-Informationen: {e}\")\n",
    "    video_urls = [] # Leere Liste, damit der nächste Schritt nicht fehlschlägt"
   ]
  },
  {
   "cell_type": "markdown",
   "metadata": {},
   "source": [
    "## Teil 3: Videos herunterladen und Transkripte abrufen\n",
    "\n",
    "Wir iterieren durch die ausgewählten Video-URLs, laden das Video herunter und versuchen, das deutsche Transkript zu speichern."
   ]
  },
  {
   "cell_type": "code",
   "execution_count": null,
   "metadata": {},
   "outputs": [],
   "source": [
    "def sanitize_filename(filename):\n",
    "    \"\"\"Entfernt ungültige Zeichen aus einem Dateinamen.\"\"\"\n",
    "    # Entferne Zeichen, die in Windows/Linux/Mac problematisch sind\n",
    "    sanitized = re.sub(r'[\\/*?\"<>|:]', \"\", filename)\n",
    "    # Ersetze Leerzeichen (optional, verbessert Lesbarkeit)\n",
    "    # sanitized = sanitized.replace(\" \", \"_\")\n",
    "    return sanitized\n",
    "\n",
    "if not video_urls:\n",
    "    print(\"Keine Video-URLs zum Verarbeiten vorhanden.\")\n",
    "else:\n",
    "    print(f\"\\n--- Starte Download & Transkript-Abruf für {len(video_urls)} Videos ---\")\n",
    "\n",
    "    for i, url in enumerate(video_urls):\n",
    "        print(f\"\\nVerarbeite Video {i+1}/{len(video_urls)}: {url}\")\n",
    "        try:\n",
    "            yt = YouTube(url)\n",
    "            video_title = yt.title\n",
    "            safe_video_title = sanitize_filename(video_title) # Bereinigter Titel für Dateinamen\n",
    "            print(f\"  Titel: {video_title}\")\n",
    "\n",
    "            # --- Video Download ---\n",
    "            try:\n",
    "                # Wähle den Stream mit der höchsten Auflösung (progressiv = Video+Audio)\n",
    "                stream = yt.streams.get_highest_resolution()\n",
    "                if stream:\n",
    "                    print(f\"  Lade Video herunter (Auflösung: {stream.resolution}, Typ: {stream.mime_type})...\")\n",
    "                    # Definiere den vollständigen Dateipfad\n",
    "                    video_filename = f\"{safe_video_title}.{stream.subtype}\" # z.B. .mp4\n",
    "                    video_filepath = os.path.join(download_folder, video_filename)\n",
    "\n",
    "                    if os.path.exists(video_filepath):\n",
    "                        print(f\"  Video '{video_filename}' existiert bereits. Überspringe Download.\")\n",
    "                    else:\n",
    "                        stream.download(output_path=download_folder, filename=video_filename)\n",
    "                        print(f\"  Video erfolgreich heruntergeladen: {video_filename}\")\n",
    "                else:\n",
    "                    print(\"  Kein geeigneter Video-Stream zum Download gefunden.\")\n",
    "            except Exception as download_error:\n",
    "                print(f\"  Fehler beim Video-Download: {download_error}\")\n",
    "\n",
    "            # --- Transkript Abruf --- \n",
    "            try:\n",
    "                captions = yt.captions\n",
    "                if captions:\n",
    "                    print(f\"  Verfügbare Untertitel-Sprachen: {list(captions.keys())}\")\n",
    "                    # Versuche, das deutsche Transkript zu bekommen ('de' ist der Sprachcode)\n",
    "                    german_caption = captions.get('de')\n",
    "\n",
    "                    if german_caption:\n",
    "                        print(\"  Deutsches Transkript gefunden. Rufe SRT ab...\")\n",
    "                        srt_captions = german_caption.generate_srt_captions()\n",
    "\n",
    "                        # Speichere das Transkript als .srt Datei\n",
    "                        transcript_filename = f\"{safe_video_title}_de.srt\"\n",
    "                        transcript_filepath = os.path.join(download_folder, transcript_filename)\n",
    "\n",
    "                        if os.path.exists(transcript_filepath):\n",
    "                            print(f\"  Transkript '{transcript_filename}' existiert bereits. Überspringe Speichern.\")\n",
    "                        else:\n",
    "                            with open(transcript_filepath, 'w', encoding='utf-8') as f:\n",
    "                                f.write(srt_captions)\n",
    "                            print(f\"  Deutsches Transkript gespeichert: {transcript_filename}\")\n",
    "                    else:\n",
    "                        print(\"  Kein deutsches Transkript verfügbar für dieses Video.\")\n",
    "                else:\n",
    "                    print(\"  Keine Untertitel/Transkripte für dieses Video verfügbar.\")\n",
    "\n",
    "            except Exception as transcript_error:\n",
    "                 print(f\"  Fehler beim Abrufen/Verarbeiten des Transkripts: {transcript_error}\")\n",
    "\n",
    "        # --- Fehlerbehandlung für das YouTube Objekt selbst ---\n",
    "        except VideoUnavailable:\n",
    "             print(f\"  FEHLER: Video {url} ist nicht verfügbar (privat, gelöscht o.ä.).\")\n",
    "        except PytubeFixError as e:\n",
    "             print(f\"  FEHLER bei der Verarbeitung von {url}: {e}\")\n",
    "        except Exception as e:\n",
    "             print(f\"  Ein unerwarteter FEHLER ist bei {url} aufgetreten: {e}\")\n",
    "\n",
    "print(\"\\n--- Verarbeitung abgeschlossen ---\")"
   ]
  },
  {
   "cell_type": "markdown",
   "metadata": {},
   "source": [
    "## Teil 4: Fazit\n",
    "\n",
    "Die Videos (falls erfolgreich) und die deutschen Transkripte (falls verfügbar und erfolgreich) sollten nun im Ordner `tagesschau_downloads` im Dateisystem dieses Colab-Notebooks zu finden sein.\n",
    "\n",
    "**Mögliche nächste Schritte:**\n",
    "*   Die heruntergeladenen `.srt`-Dateien können weiterverarbeitet werden (z.B. Text extrahieren, analysieren).\n",
    "*   Die Anzahl der heruntergeladenen Videos (`num_videos_to_process`) kann angepasst werden.\n",
    "*   Die Fehlerbehandlung kann verfeinert werden.\n",
    "*   Andere Stream-Qualitäten oder Formate könnten ausgewählt werden (z.B. nur Audio)."
   ]
  }
 ],
 "metadata": {
  "kernelspec": {
   "display_name": "Python 3 (ipykernel)",
   "language": "python",
   "name": "python3"
  },
  "language_info": {
   "codemirror_mode": {
    "name": "ipython",
    "version": 3
   },
   "file_extension": ".py",
   "mimetype": "text/x-python",
   "name": "python",
   "nbconvert_exporter": "python",
   "pygments_lexer": "ipython3",
   "version": "3.10.12"
  }
 },
 "nbformat": 4,
 "nbformat_minor": 4
}
