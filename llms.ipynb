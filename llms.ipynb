{
 "cells": [
  {
   "cell_type": "markdown",
   "id": "d8b609f0",
   "metadata": {},
   "source": [
    "# Klimawandel-Erkennung in Kommentaren mit Qwen2.5-7B-Instruct-bnb-4bit\n",
    "\n",
    "Dieses Notebook zeigt, wie man mithilfe des Modells **unsloth/Qwen2.5-7B-Instruct-bnb-4bit** jeden Kommentar aus einer zuvor gescrapten JSON‑Datei analysiert und prüft, ob der Begriff \"Klimawandel\" vorkommt.\n",
    "\n",
    "Das Modell wird mittels einer Text-Generation-Pipeline eingesetzt und mit einem Prompt angewiesen, ausschließlich ein JSON-Objekt zurückzuliefern, das unter dem Schlüssel `klimawandel` einen Boolean-Wert (true/false) enthält.\n",
    "\n",
    "**Wichtig:** Zunächst muss die Datei `taz_scraped_data_demo_2025-04-14.json` in das Arbeitsverzeichnis hochgeladen werden."
   ]
  },
  {
   "cell_type": "markdown",
   "id": "02385d9e",
   "metadata": {},
   "source": [
    "## 1. JSON-Datei Upload\n",
    "\n",
    "Lade die Datei `taz_scraped_data_demo_2025-04-14.json` in dein Colab‑Arbeitsverzeichnis hoch."
   ]
  },
  {
   "cell_type": "code",
   "execution_count": null,
   "id": "229cf3fc",
   "metadata": {},
   "outputs": [],
   "source": [
    "# Importiere benötigte Bibliotheken\n",
    "import json\n",
    "import os\n",
    "from transformers import pipeline\n",
    "\n",
    "print('Bibliotheken wurden erfolgreich importiert.')"
   ]
  },
  {
   "cell_type": "code",
   "execution_count": null,
   "id": "33b81440",
   "metadata": {},
   "outputs": [],
   "source": [
    "# Lade die JSON-Daten\n",
    "json_filename = 'taz_scraped_data_demo_2025-04-14.json'\n",
    "if not os.path.exists(json_filename):\n",
    "    raise FileNotFoundError(f\"Die Datei {json_filename} wurde nicht gefunden. Bitte lade sie hoch.\")\n",
    "\n",
    "with open(json_filename, 'r', encoding='utf-8') as f:\n",
    "    data = json.load(f)\n",
    "\n",
    "print(f'JSON-Datei \"{json_filename}\" erfolgreich geladen. Anzahl Artikel: {len(data)}')"
   ]
  },
  {
   "cell_type": "markdown",
   "id": "6898acd8",
   "metadata": {},
   "source": [
    "## 2. Initialisierung der Text-Generation-Pipeline mit Qwen2.5-7B-Instruct-bnb-4bit\n",
    "\n",
    "Wir verwenden die `text-generation`-Pipeline von Hugging Face, um das Modell **unsloth/Qwen2.5-7B-Instruct-bnb-4bit** zu laden. Dieses Modell benötigt keinen extra HF‑Token, sodass keine weiteren Einstellungen nötig sind.\n",
    "\n",
    "Wir konfigurieren die Pipeline mit einer moderaten Ausgabe-Länge und deaktivieren das Sampling, um deterministische Ergebnisse zu erhalten."
   ]
  },
  {
   "cell_type": "code",
   "execution_count": null,
   "id": "da9b1bf5",
   "metadata": {},
   "outputs": [],
   "source": [
    "model_name = \"unsloth/Qwen2.5-7B-Instruct-bnb-4bit\"\n",
    "\n",
    "generation_pipe = pipeline(\n",
    "    \"text-generation\",\n",
    "    model=model_name,\n",
    "    tokenizer=model_name,\n",
    "    max_new_tokens=60,\n",
    "    do_sample=False\n",
    ")\n",
    "\n",
    "print(f'Text-Generation-Pipeline für {model_name} initialisiert.')"
   ]
  },
  {
   "cell_type": "markdown",
   "id": "bf1334a8",
   "metadata": {},
   "source": [
    "## 3. Funktion zur Klassifikation von Kommentaren\n",
    "\n",
    "Die Funktion `classify_klimawandel` nimmt einen Kommentartext entgegen und übergibt diesen zusammen mit einem Prompt an das Modell. \n",
    "\n",
    "Der Prompt lautet beispielsweise:\n",
    "```\n",
    "Analysiere den folgenden Kommentartext und gib ausschließlich ein JSON-Objekt zurück, in dem der Schlüssel \"klimawandel\" mit true oder false belegt wird.\n",
    "Kommentar: <Kommentartext>\n",
    "```\n",
    "\n",
    "Das Modell soll also z. B. folgendes zurückliefern:\n",
    "```json\n",
    "{ \"klimawandel\": true }\n",
    "```"
   ]
  },
  {
   "cell_type": "code",
   "execution_count": null,
   "id": "978fe1f5",
   "metadata": {},
   "outputs": [],
   "source": [
    "def classify_klimawandel(comment_text):\n",
    "    prompt = (\n",
    "        'Analysiere den folgenden Kommentartext und gib ausschließlich ein JSON-Objekt zurück, '\\n'\n",
    "        'in dem der Schlüssel \"klimawandel\" mit true oder false belegt wird.\\n' '\\n'\n",
    "        f'Kommentar: {comment_text}\\n'\n",
    "    )\n",
    "    \n",
    "    # Generiere eine Antwort mit dem Modell\n",
    "    outputs = generation_pipe(prompt, clean_up_tokenization_spaces=True)\n",
    "    response_text = outputs[0]['generated_text']\n",
    "    \n",
    "    # Versuche, ein JSON-Objekt aus der Ausgabe zu extrahieren\n",
    "    try:\n",
    "        json_start = response_text.find('{')\n",
    "        json_str = response_text[json_start:]\n",
    "        result = json.loads(json_str)\n",
    "    except Exception as e:\n",
    "        result = {\"klimawandel\": None, \"error\": str(e)}\n",
    "    return result\n",
    "\n",
    "# Teste die Funktion mit einem Beispielkommentar\n",
    "example_comment = \"Ich bin fest davon überzeugt, dass der Klimawandel aktuell eine große Herausforderung darstellt.\"\n",
    "print('Test Output:', classify_klimawandel(example_comment))"
   ]
  },
  {
   "cell_type": "markdown",
   "id": "4219f66b",
   "metadata": {},
   "source": [
    "## 4. Analyse der Kommentare\n",
    "\n",
    "Nun iterieren wir über alle Artikel und deren Kommentare aus der JSON-Datei. Für jeden Kommentar wird das Modell aufgerufen, um zu prüfen, ob der Begriff \"Klimawandel\" vorkommt – die Ausgabe (als JSON) wird ausgegeben."
   ]
  },
  {
   "cell_type": "code",
   "execution_count": null,
   "id": "a520ece0",
   "metadata": {},
   "outputs": [],
   "source": [
    "for article_idx, article in enumerate(data):\n",
    "    print(f\"\\n--- Artikel {article_idx+1} ---\")\n",
    "    comments = article.get('Comments', [])\n",
    "    if not comments:\n",
    "        print('Keine Kommentare vorhanden.')\n",
    "    else:\n",
    "        for com_idx, comment in enumerate(comments):\n",
    "            comment_text = comment.get('Comment text', '')\n",
    "            if not comment_text.strip():\n",
    "                print(f\"Kommentar {com_idx+1}: Kein Text vorhanden.\")\n",
    "            else:\n",
    "                result = classify_klimawandel(comment_text)\n",
    "                print(f\"Kommentar {com_idx+1}: {result}\")\n",
    "\n",
    "print('\\nAnalyse der Kommentare abgeschlossen.')"
   ]
  },
  {
   "cell_type": "markdown",
   "id": "959805c3",
   "metadata": {},
   "source": [
    "## Fazit\n",
    "\n",
    "In diesem Notebook haben wir gezeigt, wie man mit dem Modell **unsloth/Qwen2.5-7B-Instruct-bnb-4bit** automatisch prüfen kann, ob in den Kommentaren der Begriff \"Klimawandel\" vorkommt. \n",
    "\n",
    "Die Methode demonstriert, wie man einen Prompt so gestaltet, dass ausschließlich ein strukturiertes JSON‑Objekt zurückgeliefert wird – ideal für automatisierte Auswertungen im Rahmen eines Kurses."
   ]
  }
 ],
 "metadata": {
  "kernelspec": {
   "display_name": "Python 3 (ipykernel)",
   "language": "python",
   "name": "python3"
  },
  "language_info": {
   "file_extension": ".py",
   "mimetype": "text/x-python",
   "name": "python",
   "version": "3.x"
  }
 },
 "nbformat": 4,
 "nbformat_minor": 5
}
